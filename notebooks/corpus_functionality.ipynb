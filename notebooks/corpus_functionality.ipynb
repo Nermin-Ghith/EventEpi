{
 "cells": [
  {
   "cell_type": "code",
   "execution_count": 1,
   "metadata": {},
   "outputs": [],
   "source": [
    "import sys\n",
    "sys.path.append(\"../../eventepi\")\n",
    "from eventepi.corpus_reader import HTMLCorpusReader, PickledCorpusReader"
   ]
  },
  {
   "cell_type": "markdown",
   "metadata": {},
   "source": [
    "# This notebook intends to show the corpus functionality"
   ]
  },
  {
   "cell_type": "markdown",
   "metadata": {},
   "source": [
    "### HTMLCorpusReader is a corpus reader for the raw, scraped ProMED Mail and WHO DONs HTML files "
   ]
  },
  {
   "cell_type": "code",
   "execution_count": 2,
   "metadata": {},
   "outputs": [],
   "source": [
    "html_reader = HTMLCorpusReader()"
   ]
  },
  {
   "cell_type": "code",
   "execution_count": 3,
   "metadata": {},
   "outputs": [
    {
     "data": {
      "text/plain": [
       "['who_dons/01-february-2015-avian-influenza.html',\n",
       " 'who_dons/01-july-2016-ah7n9-china.html',\n",
       " 'who_dons/01-june-2015-mers-korea.html',\n",
       " 'who_dons/01-june-2015-mers-saudi-arabia.html',\n",
       " 'who_dons/01-march-2018-lassa-fever-nigeria.html']"
      ]
     },
     "execution_count": 3,
     "metadata": {},
     "output_type": "execute_result"
    }
   ],
   "source": [
    "# Resolves the available documts and returns a list of their names based on categories or file ids\n",
    "html_reader.resolve(categories=\"who_dons\")[:5]"
   ]
  },
  {
   "cell_type": "code",
   "execution_count": 4,
   "metadata": {},
   "outputs": [
    {
     "name": "stdout",
     "output_type": "stream",
     "text": [
      "<!DOCTYPE html PUBLIC \"-//W3C//DTD XHTML 1.0 Transitional//EN\" \"http://www.w3.org/TR/xhtml1/DTD/xhtml1-transitional.dtd\">\n",
      "<html>\n",
      "<head>\n",
      "<meta http-equiv=\"X-UA-Compatible\" content=\"IE=edge\">\n",
      "<meta http-equiv=\"Content-Type\" content=\"text/html; charset=UTF-8\">\n",
      "<meta name=\"viewport\" content=\"width=device-width, initial-scale=1\">\n",
      "<title>WHO |  Human infection with avian influenza A(H7N9) virus – Canada</title>\n",
      "<meta name=\"DC.title\" content=\"WHO |  Human infection with avian influenza A(H7N9) virus – Canada\">\n",
      "<meta name=\"DC.keywords\" content=\" avian influenza [subject], bird flu, avian flu, fowl pla\n"
     ]
    }
   ],
   "source": [
    "# Returns the raw docs given categories or fileids\n",
    "print(next(html_reader.docs(categories=\"who_dons\"))[:600])"
   ]
  },
  {
   "cell_type": "code",
   "execution_count": 5,
   "metadata": {},
   "outputs": [
    {
     "name": "stdout",
     "output_type": "stream",
     "text": [
      "<html><body><div><div id=\"primary\">\n",
      "\n",
      "\n",
      "    <h1 class=\"headline\"> Human infection with avian influenza A(H7N9) virus – Canada</h1>\n",
      "\n",
      "\n",
      "\n",
      " \n",
      "\n",
      "\n",
      "\n",
      "\n",
      "\n",
      "\n",
      "\n",
      "\n",
      "\n",
      "\n",
      "\n",
      "\n",
      "\n",
      "\n",
      "\n",
      "\n",
      "\n",
      "\n",
      "\t\t<p>\n",
      "  \t\t\n",
      "  \t\t<span>On 27 January 2015, the IHR National Focal Point of Canada notified WHO of 1 laboratory-confirmed case of human infection with avian influenza A(H7N9) virus. On January 30, 2015 a second individual, travelling through China with the index case, was laboratory confirmed to also have influenza A(H7N9) infection.</span></p>\n",
      "\t\t<p>\n",
      "  \t\t\n",
      "  \t\t<span>The two individuals flew from Hong Kong, SAR China to British Columbia, Canada afte\n"
     ]
    }
   ],
   "source": [
    "# Returns the a readable html given categories or fileids\n",
    "print(next(html_reader.html(categories=\"who_dons\"))[:600])"
   ]
  },
  {
   "cell_type": "code",
   "execution_count": 6,
   "metadata": {},
   "outputs": [
    {
     "name": "stdout",
     "output_type": "stream",
     "text": [
      "These tags are considered paragraphs:  ['h1', 'h2', 'h3', 'h4', 'h5', 'h6', 'h7', 'p', 'li']\n",
      " Human infection with avian influenza A(H7N9) virus – Canada\n"
     ]
    }
   ],
   "source": [
    "# Returns paragraphs given categories or fileids. A paragraph is based on the prespecified htmls tags\n",
    "print(\"These tags are considered paragraphs: \", html_reader.tags)\n",
    "print(next(html_reader.paras(categories=\"who_dons\")))"
   ]
  },
  {
   "cell_type": "code",
   "execution_count": 7,
   "metadata": {},
   "outputs": [
    {
     "name": "stdout",
     "output_type": "stream",
     "text": [
      " Human infection with avian influenza A(H7N9) virus – Canada\n"
     ]
    }
   ],
   "source": [
    "# Returns sentences given categories or fileids.\n",
    "print(next(html_reader.sents(categories=\"who_dons\")))"
   ]
  },
  {
   "cell_type": "code",
   "execution_count": 8,
   "metadata": {},
   "outputs": [
    {
     "name": "stdout",
     "output_type": "stream",
     "text": [
      "Human\n"
     ]
    }
   ],
   "source": [
    "# Returns words given categories or fileids.\n",
    "print(next(html_reader.words(categories=\"who_dons\")))"
   ]
  },
  {
   "cell_type": "code",
   "execution_count": 9,
   "metadata": {},
   "outputs": [
    {
     "name": "stdout",
     "output_type": "stream",
     "text": [
      "[[('Human', 'JJ'), ('infection', 'NN'), ('with', 'IN'), ('avian', 'JJ'), ('influenza', 'NN'), ('A', 'NNP'), ('(', '('), ('H7N9', 'NNP'), (')', ')'), ('virus', 'NN'), ('–', 'CD'), ('Canada', 'NNP')]]\n"
     ]
    }
   ],
   "source": [
    "# Returns POS-tags given categories or fileids.\n",
    "print(next(html_reader.tokenize(categories=\"who_dons\")))"
   ]
  },
  {
   "cell_type": "code",
   "execution_count": 10,
   "metadata": {},
   "outputs": [
    {
     "name": "stdout",
     "output_type": "stream",
     "text": [
      "67KB\n"
     ]
    }
   ],
   "source": [
    "# Returns POS-tags given categories or fileids.\n",
    "print(next(html_reader.sizes(categories=\"who_dons\")))"
   ]
  },
  {
   "cell_type": "code",
   "execution_count": 11,
   "metadata": {},
   "outputs": [
    {
     "name": "stdout",
     "output_type": "stream",
     "text": [
      "{'files': 5, 'num_categories': 1, 'paragraphs': 87, 'sentences': 157, 'words': 3389, 'vocabulary': 795, 'lexical_diversity': 4.262893081761006, 'paras_per_doc': 17.4, 'sents_per_para': 1.8045977011494252, 'secs': 0.21319365501403809}\n"
     ]
    }
   ],
   "source": [
    "# The corpus reader has a describe methods that itereates over all files and returns basic statistics\n",
    "print(html_reader.describe(\n",
    "    fileids=[\n",
    "        'who_dons/01-february-2015-avian-influenza.html',\n",
    "        'who_dons/01-july-2016-ah7n9-china.html',\n",
    "        'who_dons/01-june-2015-mers-korea.html',\n",
    "        'who_dons/01-june-2015-mers-saudi-arabia.html',\n",
    "        'who_dons/01-march-2018-lassa-fever-nigeria.html'\n",
    "    ]\n",
    ")\n",
    "     )"
   ]
  },
  {
   "cell_type": "markdown",
   "metadata": {},
   "source": [
    "### PickledCorpusReader is a corpus reader for preprocessed, pickled, ProMED Mail and WHO DONs HTML files"
   ]
  },
  {
   "cell_type": "code",
   "execution_count": 12,
   "metadata": {},
   "outputs": [],
   "source": [
    "pickle_reader = PickledCorpusReader()"
   ]
  },
  {
   "cell_type": "code",
   "execution_count": 13,
   "metadata": {},
   "outputs": [
    {
     "data": {
      "text/plain": [
       "['who_dons/01-february-2015-avian-influenza.pickle',\n",
       " 'who_dons/01-july-2016-ah7n9-china.pickle',\n",
       " 'who_dons/01-june-2015-mers-korea.pickle',\n",
       " 'who_dons/01-june-2015-mers-saudi-arabia.pickle',\n",
       " 'who_dons/01-march-2018-lassa-fever-nigeria.pickle']"
      ]
     },
     "execution_count": 13,
     "metadata": {},
     "output_type": "execute_result"
    }
   ],
   "source": [
    "# Resolves the available documts and returns a list of their names based on categories or file ids\n",
    "pickle_reader.resolve(categories=\"who_dons\")[:5]"
   ]
  },
  {
   "cell_type": "code",
   "execution_count": 14,
   "metadata": {},
   "outputs": [
    {
     "name": "stdout",
     "output_type": "stream",
     "text": [
      "[[('Human', 'JJ'), ('infection', 'NN'), ('with', 'IN'), ('avian', 'JJ'), ('influenza', 'NN'), ('A', 'NNP'), ('(', '('), ('H7N9', 'NNP'), (')', ')'), ('virus', 'NN'), ('–', 'CD'), ('Canada', 'NNP')]]\n"
     ]
    }
   ],
   "source": [
    "# Returns the raw docs given categories or fileids\n",
    "print(next(pickle_reader.docs(categories=\"who_dons\"))[0])"
   ]
  },
  {
   "cell_type": "code",
   "execution_count": 15,
   "metadata": {},
   "outputs": [
    {
     "name": "stdout",
     "output_type": "stream",
     "text": [
      "[[('Human', 'JJ'), ('infection', 'NN'), ('with', 'IN'), ('avian', 'JJ'), ('influenza', 'NN'), ('A', 'NNP'), ('(', '('), ('H7N9', 'NNP'), (')', ')'), ('virus', 'NN'), ('–', 'CD'), ('Canada', 'NNP')]]\n"
     ]
    }
   ],
   "source": [
    "# Returns paragraphs given categories or fileids.\n",
    "print(next(pickle_reader.paras(categories=\"who_dons\")))"
   ]
  },
  {
   "cell_type": "code",
   "execution_count": 16,
   "metadata": {},
   "outputs": [
    {
     "name": "stdout",
     "output_type": "stream",
     "text": [
      "[('Human', 'JJ'), ('infection', 'NN'), ('with', 'IN'), ('avian', 'JJ'), ('influenza', 'NN'), ('A', 'NNP'), ('(', '('), ('H7N9', 'NNP'), (')', ')'), ('virus', 'NN'), ('–', 'CD'), ('Canada', 'NNP')]\n"
     ]
    }
   ],
   "source": [
    "# Returns sentences given categories or fileids.\n",
    "print(next(pickle_reader.sents(categories=\"who_dons\")))"
   ]
  },
  {
   "cell_type": "code",
   "execution_count": 17,
   "metadata": {},
   "outputs": [
    {
     "name": "stdout",
     "output_type": "stream",
     "text": [
      "('Human', 'JJ')\n"
     ]
    }
   ],
   "source": [
    "# Returns sentences given categories or fileids.\n",
    "print(next(pickle_reader.tagged(categories=\"who_dons\")))"
   ]
  },
  {
   "cell_type": "code",
   "execution_count": 18,
   "metadata": {},
   "outputs": [
    {
     "name": "stdout",
     "output_type": "stream",
     "text": [
      "Human\n"
     ]
    }
   ],
   "source": [
    "# Returns sentences given categories or fileids.\n",
    "print(next(pickle_reader.words(categories=\"who_dons\")))"
   ]
  }
 ],
 "metadata": {
  "kernelspec": {
   "display_name": "Python 3",
   "language": "python",
   "name": "python3"
  },
  "language_info": {
   "codemirror_mode": {
    "name": "ipython",
    "version": 3
   },
   "file_extension": ".py",
   "mimetype": "text/x-python",
   "name": "python",
   "nbconvert_exporter": "python",
   "pygments_lexer": "ipython3",
   "version": "3.7.7"
  }
 },
 "nbformat": 4,
 "nbformat_minor": 4
}
